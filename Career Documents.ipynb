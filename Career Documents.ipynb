{
 "cells": [
  {
   "cell_type": "markdown",
   "metadata": {},
   "source": [
    "# Career Planning! Yaa!"
   ]
  },
  {
   "cell_type": "markdown",
   "metadata": {},
   "source": [
    "Find 5 job postings that you are excited about.\n",
    "\n",
    "on Indeed:\n",
    "- https://tsys.wd1.myworkdayjobs.com/en-US/TSYS/job/Austin-Texas-USA/Data-Analyst_R0001755?source=Indeed\n",
    "    This job looks interesting because it was the first one I found that seemed to be asking for skills and NOT a specific level of education.\n",
    "- https://jobs.aosmith.com/job/Austin-Database-Business-Analyst-I-TX-78701/413305100/?feedId=211300&utm_source=Indeed&utm_campaign=AOSmith_Indeed\n",
    "    I understand what they put as reponsibilities for this position.\n",
    "- http://rxwiki.applytojob.com/apply/job_20170612185003_VETZP1JLCATUBQIW/Data-Analyst?source=INDE\n",
    "    This job is specifically asking for someone to analyze their user data for business improvement\n",
    "- https://jobs.lever.co/cratejoy/41629afe-bd81-4c04-ab40-f1ccd07cf62c?lever-source=indeed\n",
    "     The line \"You should be passionate about surfacing undiscovered patterns in data and using quantitative analysis to answer complex questions.\" really jumped out at me as what I would like to do. Finding patterns in data sounds like such fun.\n",
    "- https://jobs.gtech.com/job/Austin-Marketing-Research-Analyst-I-TX-78727/408039900/?feedId=208000&utm_source=Indeed&utm_campaign=IGT_Indeed&codes=wind\n",
    "     This position sounds fun because it describes diving into data to find information and then making reports about that information.\n"
   ]
  },
  {
   "cell_type": "markdown",
   "metadata": {},
   "source": [
    "# Company Search! Woohoo!\n"
   ]
  },
  {
   "cell_type": "markdown",
   "metadata": {},
   "source": [
    "List top 5 dream companies, what they do, why you added them.\n",
    "\n",
    "- Apple\n",
    "    I've worked for apple before and I enjoyed the work even though it was front line customer service. They produce world changing products and are a leading/juggernaught in the technology industry.\n",
    "- Home Away\n",
    "    A friend works at HomeAway and tells me the environment is wonderful and supportive. Her bosses(hers at least) listen to her and work with her to solve the issues she brings up, instead of dismissing her ideas and concerns. HomeAway provides a platform to list rental properties and to find rental properties around the world.\n",
    "- Weta Workshop \n",
    "     Weta Workshop is a multi-award winning design studio and physical manufacturing facility servicing the world's entertainment and creative industries. I am creatively inclined and so enjoy a huge variety of what Weta does.\n",
    "- Urban Decay Cosmetics\n",
    "     Urban Decay is an industry leading in the cosmetics field and has been producing cruelty free cosmetices since the mid 90's. I enjoy UD's make up and would like to work for a company that cares, as UD seems to.\n",
    "- SquareRoot\n",
    "    SquareRoot is an Austin based company that offers a POS and management system that allows users to capture and analyze business data in real time or near real time to improve business performance. I found this company after searching 'Best austin employers' and so far it seems to really fit that bill and also fit into the data analytics field."
   ]
  },
  {
   "cell_type": "markdown",
   "metadata": {},
   "source": [
    "# Meet Ups!"
   ]
  },
  {
   "cell_type": "markdown",
   "metadata": {},
   "source": [
    "I would like to go to these meet ups: \n",
    "\n",
    "-Women in Data Science\n",
    "\n",
    "-Big Data Revealed\n",
    "\n",
    "-Round Rock Data Visualization Meetup\n",
    "\n",
    "-Austin Operators\n",
    "\n",
    "-Lonestar Real-Time Analytics"
   ]
  },
  {
   "cell_type": "markdown",
   "metadata": {},
   "source": [
    "# People!"
   ]
  },
  {
   "cell_type": "markdown",
   "metadata": {},
   "source": [
    "On LinkedIn, I found https://www.linkedin.com/in/ronnybjarnason/ who currently holds the titles of Data Science Manager.\n",
    "\n",
    "Doing an advanced search showed https://www.linkedin.com/in/jonathanortiz/ as a second degree connection for me. \n",
    "\n",
    "I did add Grae, but have not had an opportunity to search again. "
   ]
  },
  {
   "cell_type": "markdown",
   "metadata": {},
   "source": [
    "# Write Your Own Story!\n",
    "\n",
    "Two to three years from now I will be working as a Data Analyst and I will be writing reports and making presentations to company leaders and decision makers. I have mastered(ish) Python and added SQL, PHP, Ruby and vb.NET to my repitoire. Data Visualization is my specialty"
   ]
  },
  {
   "cell_type": "markdown",
   "metadata": {},
   "source": [
    "# Part One:\n",
    "\n",
    "In a Ruby or Python environment, I write code to visualize data provided by my client in order to allow that client to more easily understand what that data is telling them. I also put together and deliver presentations to client leadership, allowing them to more easily and quickly understand what the data they provide is telling them so they can make decisions about the business and what direction it needs to go, based on my analysis. "
   ]
  },
  {
   "cell_type": "markdown",
   "metadata": {},
   "source": [
    "# Part Two:\n",
    "\n",
    "My work involves collecting data from the internet, cleaning it up by taking out missing fields or values, and then putting it through my home built programs to produce visuals to display what exactly the data is telling us. Specifically, I use Ruby and Python to write small programs that can help me to show clients what their data is telling us. Once I know what the data is saying, I organize it into an easily understood linear format and then put together a presentation for client leadership. My pursuasive public speaking skills have improved greatly."
   ]
  },
  {
   "cell_type": "markdown",
   "metadata": {},
   "source": [
    "# Part Three!\n",
    "\n",
    "Sarah is a dedicated data scientist with a mastery of data visualization and presentation. She has provided assistance with several projects in the communications and technology industries and has been very helpful in moving the conversation of equality forward within the tech industry. "
   ]
  },
  {
   "cell_type": "code",
   "execution_count": null,
   "metadata": {
    "collapsed": true
   },
   "outputs": [],
   "source": []
  }
 ],
 "metadata": {
  "kernelspec": {
   "display_name": "Python 3",
   "language": "python",
   "name": "python3"
  },
  "language_info": {
   "codemirror_mode": {
    "name": "ipython",
    "version": 3
   },
   "file_extension": ".py",
   "mimetype": "text/x-python",
   "name": "python",
   "nbconvert_exporter": "python",
   "pygments_lexer": "ipython3",
   "version": "3.6.1"
  }
 },
 "nbformat": 4,
 "nbformat_minor": 2
}
